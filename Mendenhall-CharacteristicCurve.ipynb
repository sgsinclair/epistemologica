{
 "cells": [
  {
   "cell_type": "markdown",
   "metadata": {},
   "source": [
    "# Mendenhall's Characteristic Curve (1887): Early Stylometrics"
   ]
  },
  {
   "cell_type": "markdown",
   "metadata": {},
   "source": [
    "In 1887 the polymath T. C. Mendenhall published an article in Science titled, \"The Characteristic Curves of Composition\" which is both one of the earliest examples of quantitative stylistics but also one of the first studies to present text visualizations based on the (manual) count of words. Mendenhall thought that different authors would have distinctive curves of word length frequencies which could help with authorship attribution. \n",
    "\n",
    "Here you can see an example of the characteristic curve of _Oliver Twist_. Mendenhall took the first 1000 words, counted the length in characters of these 1000 words and then graphed the number of words of each length. Thus one can see that there is just under 50 words of one letter length in the first one thousand words.\n",
    "\n",
    "![Mendhall Characteristic Curve](data/Mendenhall-CharacteristicCurve/OliverTwist-CharacteristicCurve.png)\n",
    "\n",
    "Mendenhall thought this method of analysis would help with the \"identification or discrimination of authorship\" or authorship attribution as we call it today."
   ]
  },
  {
   "cell_type": "markdown",
   "metadata": {},
   "source": [
    "## Acquiring the Text"
   ]
  },
  {
   "cell_type": "markdown",
   "metadata": {},
   "source": [
    "We'll begin by fetching the edition of [Oliver Twist](http://www.gutenberg.org/cache/epub/730/pg730.txt) that's available from the [Gutenberg Project](http://en.wikipedia.org/wiki/Project_Gutenberg). It's always worth noting that other editions are available and may be preferable for various reasons, but the Gutenberg edition has the benefit of convenience and longevity.\n",
    "\n",
    "Fetching a URL can be very quick and easy in Python, but we'll take a detour to first check if there's a local copy of the text file – this may help avoid some problems of connectivity and access management."
   ]
  },
  {
   "cell_type": "code",
   "execution_count": 1,
   "metadata": {},
   "outputs": [],
   "source": [
    "import os, urllib.request\n",
    "\n",
    "# get the text from a filename (if it exists) or fetch the contents (and cache it for next time)\n",
    "def get_text_local_or_url(filename, url):\n",
    "    \n",
    "    # do we have a local copy? if so read it in and return it\n",
    "    if os.path.exists(filename):\n",
    "        with open(filename) as f:\n",
    "            return f.read()\n",
    "    \n",
    "    # if not, fetch the URL contents and then write it out for next time\n",
    "    else:\n",
    "        string = urllib.request.urlopen(url).read().decode()\n",
    "        with open(filename, \"w\") as f:\n",
    "            f.write(string)\n",
    "        return string"
   ]
  },
  {
   "cell_type": "markdown",
   "metadata": {},
   "source": [
    "So now we're ready to make a call to fetch the text."
   ]
  },
  {
   "cell_type": "code",
   "execution_count": 2,
   "metadata": {},
   "outputs": [
    {
     "name": "stdout",
     "output_type": "stream",
     "text": [
      "﻿The Project Gutenberg EBook of Oliver Twist, by C [...]  to our email newsletter to hear about new eBooks.\n"
     ]
    }
   ],
   "source": [
    "oliverTwistAllString = get_text_local_or_url(\"data/Mendenhall-CharacteristicCurve/OliverTwist.txt\",\n",
    "    \"http://www.gutenberg.org/cache/epub/730/pg730.txt\").strip()\n",
    "\n",
    "# show a snippet\n",
    "print(oliverTwistAllString[:50], \"[...]\", oliverTwistAllString[-50:])"
   ]
  },
  {
   "cell_type": "markdown",
   "metadata": {},
   "source": [
    "The Gutenberg text includes some header and footer text, including licensing information, that we want to strip out before doing our analysis. In looking at the [original text](http://www.gutenberg.org/cache/epub/730/pg730.txt), we can see that see that things start with \"CHAPTER I\" (assuming we don't want the table of contents). Likewise, the end of the text, before the file footer, can be found with \"End of the Project Gutenberg EBook of Oliver Twist\". So we find the locations of those strings and take what's in between."
   ]
  },
  {
   "cell_type": "code",
   "execution_count": 3,
   "metadata": {},
   "outputs": [
    {
     "name": "stdout",
     "output_type": "stream",
     "text": [
      "CHAPTER I\n",
      "\n",
      "TREATS OF THE PLACE WHERE OLIVER TWIST  [...]  nook is in a Church, and she was weak and erring.\n"
     ]
    }
   ],
   "source": [
    "start = oliverTwistAllString.find(\"CHAPTER I\")\n",
    "end = oliverTwistAllString.find(\"End of the Project Gutenberg EBook of Oliver Twist\")\n",
    "oliverTwistString = oliverTwistAllString[start:end].strip()\n",
    "\n",
    "# show a snippet\n",
    "print(oliverTwistString[:50], \"[...]\", oliverTwistString[-50:])"
   ]
  },
  {
   "cell_type": "markdown",
   "metadata": {},
   "source": [
    "We have the text in good shape now, the next step is to analyze it."
   ]
  },
  {
   "cell_type": "markdown",
   "metadata": {},
   "source": [
    "## Analyzing Word Lengths"
   ]
  },
  {
   "cell_type": "markdown",
   "metadata": {},
   "source": [
    "Let's talk through what we want to do with our string to analyze the word length:\n",
    "\n",
    "* break the one text string into a list of words\n",
    "* measure the length of each word\n",
    "* graph the word lengths (in order of length, not frequencies)\n",
    "\n",
    "We can start with the first task, breaking the string into words, or tokenization."
   ]
  },
  {
   "cell_type": "code",
   "execution_count": 4,
   "metadata": {},
   "outputs": [
    {
     "data": {
      "text/plain": [
       "['CHAPTER', 'I', 'TREATS', 'OF', 'THE']"
      ]
     },
     "execution_count": 4,
     "metadata": {},
     "output_type": "execute_result"
    }
   ],
   "source": [
    "import nltk\n",
    "\n",
    "tokens = nltk.word_tokenize(oliverTwistString)\n",
    "words = [token for token in tokens if any(c for c in token if c.isalpha())]\n",
    "\n",
    "# preview first five words\n",
    "words[:5]"
   ]
  },
  {
   "cell_type": "markdown",
   "metadata": {},
   "source": [
    "Next we want to measure the length of each word. Note that Mendenhall was counting words manually and he only considered the first 1,000 words, so we'll take a subset."
   ]
  },
  {
   "cell_type": "code",
   "execution_count": 5,
   "metadata": {},
   "outputs": [
    {
     "data": {
      "text/plain": [
       "[('CHAPTER', 7), ('I', 1), ('TREATS', 6), ('OF', 2), ('THE', 3)]"
      ]
     },
     "execution_count": 5,
     "metadata": {},
     "output_type": "execute_result"
    }
   ],
   "source": [
    "lengths = [len(word) for word in words[:1000]]\n",
    "\n",
    "# preview the first ten aligned words and lengths\n",
    "list(zip(words,lengths))[:5]"
   ]
  },
  {
   "cell_type": "markdown",
   "metadata": {},
   "source": [
    "Then we want to count the word lengths."
   ]
  },
  {
   "cell_type": "code",
   "execution_count": 10,
   "metadata": {},
   "outputs": [
    {
     "data": {
      "text/plain": [
       "[(1, 38), (2, 166), (3, 231), (4, 179), (5, 125)]"
      ]
     },
     "execution_count": 10,
     "metadata": {},
     "output_type": "execute_result"
    }
   ],
   "source": [
    "lengthFreqs = nltk.FreqDist(lengths)\n",
    "orderedLengthFreqs = sorted(list(lengthFreqs.items()))\n",
    "\n",
    "# preview the first 5 values\n",
    "orderedLengthFreqs[:5]"
   ]
  },
  {
   "cell_type": "markdown",
   "metadata": {},
   "source": [
    "Finally, we'll plot the curve."
   ]
  },
  {
   "cell_type": "code",
   "execution_count": 11,
   "metadata": {},
   "outputs": [
    {
     "data": {
      "image/png": "[encoded data removed]",
      "text/plain": [
       "<Figure size 432x288 with 1 Axes>"
      ]
     },
     "metadata": {
      "needs_background": "light"
     },
     "output_type": "display_data"
    }
   ],
   "source": [
    "import nltk, matplotlib.pyplot as plt\n",
    "%matplotlib inline\n",
    "\n",
    "plt.plot([f[0] for f in orderedLengthFreqs], [f[1] for f in orderedLengthFreqs])\n",
    "plt.xticks(range(1,len(orderedLengthFreqs)+1))\n",
    "plt.xlabel('Word Length')\n",
    "plt.ylabel('Word Count')\n",
    "plt.show()"
   ]
  },
  {
   "cell_type": "markdown",
   "metadata": {},
   "source": [
    "Let's compare that to Mendenhall's graph – not bad!\n",
    "\n",
    "![Mendhall Characteristic Curve](data/Mendenhall-CharacteristicCurve/OliverTwist-CharacteristicCurve.png)\n",
    "\n"
   ]
  },
  {
   "cell_type": "markdown",
   "metadata": {},
   "source": [
    "For the sake of convenience, we might want to create a function that combines all of these steps in one."
   ]
  },
  {
   "cell_type": "code",
   "execution_count": 14,
   "metadata": {},
   "outputs": [],
   "source": [
    "import nltk, matplotlib.pyplot as plt\n",
    "%matplotlib inline\n",
    "\n",
    "def plot_characteristic_curve(string, limit=False):\n",
    "    tokens = nltk.word_tokenize(string)\n",
    "    words = [token for token in tokens if any(c for c in token if c.isalpha())]\n",
    "    if limit:\n",
    "        words = words[:limit]\n",
    "    lengths = [len(word) for word in words]\n",
    "    lengthFreqs = nltk.FreqDist(lengths)\n",
    "    orderedLengthFreqs = sorted(list(lengthFreqs.items()))\n",
    "    plt.plot([f[0] for f in orderedLengthFreqs], [f[1] for f in orderedLengthFreqs])\n",
    "    plt.xticks(range(1,len(orderedLengthFreqs)+1))\n",
    "    plt.xlabel('Word Length')\n",
    "    plt.ylabel('Word Count')\n",
    "    plt.show()"
   ]
  },
  {
   "cell_type": "markdown",
   "metadata": {},
   "source": [
    "We can try this out by plotting all of _Oliver Twist_ (something that Mendenhall probably wouldn't have wanted to do manually)."
   ]
  },
  {
   "cell_type": "code",
   "execution_count": 15,
   "metadata": {},
   "outputs": [
    {
     "data": {
      "image/png": "[encoded data removed]",
      "text/plain": [
       "<Figure size 432x288 with 1 Axes>"
      ]
     },
     "metadata": {
      "needs_background": "light"
     },
     "output_type": "display_data"
    }
   ],
   "source": [
    "plot_characteristic_curve(oliverTwistString) # show all, without limiting to first 1000 words"
   ]
  },
  {
   "cell_type": "markdown",
   "metadata": {},
   "source": [
    "---\n",
    "\n",
    "This notebook is part of the [Epistemelogica](/) project by Stéfan Sinclair and Geoffrey Rockwell (CC-BY)."
   ]
  }
 ],
 "metadata": {
  "kernelspec": {
   "display_name": "Python 3",
   "language": "python",
   "name": "python3"
  },
  "language_info": {
   "codemirror_mode": {
    "name": "ipython",
    "version": 3
   },
   "file_extension": ".py",
   "mimetype": "text/x-python",
   "name": "python",
   "nbconvert_exporter": "python",
   "pygments_lexer": "ipython3",
   "version": "3.7.1"
  }
 },
 "nbformat": 4,
 "nbformat_minor": 1
}
