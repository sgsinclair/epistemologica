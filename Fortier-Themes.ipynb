{
 "metadata": {
  "name": "",
  "signature": "sha256:0164878a02d2cc2aa3aa14ebef6a9c45c488b2d3d2fa0a58d81abd4e60f64bf6"
 },
 "nbformat": 3,
 "nbformat_minor": 0,
 "worksheets": [
  {
   "cells": [
    {
     "cell_type": "markdown",
     "metadata": {},
     "source": [
      "![Fortier Happiness Table](data/Fortier-Themes/fortier-happiness-table.png)"
     ]
    },
    {
     "cell_type": "code",
     "collapsed": false,
     "input": [
      "# read in our bonheur words\n",
      "bonheur = [line.rstrip('\\n') for line in open(\"bonheur.txt\")]\n",
      "\n",
      "# create plural forms in a quick and dirty way (not all plurals end in s, but that's ok)\n",
      "bonheur = bonheur + [word+\"s\" for word in bonheur]"
     ],
     "language": "python",
     "metadata": {},
     "outputs": [],
     "prompt_number": 5
    },
    {
     "cell_type": "code",
     "collapsed": false,
     "input": [
      "import nltk\n",
      "\n",
      "def get_stats(filename, match):\n",
      "    f = open(filename, \"r\")\n",
      "    string = f.read()\n",
      "    f.close()\n",
      "    tokens = nltk.word_tokenize(string.lower())\n",
      "    words = [word for word in tokens if any(c for c in word if c.isalpha())]\n",
      "    freqs = nltk.FreqDist(words)\n",
      "    count = 0\n",
      "    for word, freq in freqs.items():\n",
      "        if word in match:\n",
      "            count += freq\n",
      "    return {\"count\": count, \"total\": len(words)}\n",
      "\n",
      "immoralisteStats = get_stats(\"gide_immoraliste.txt\", bonheur) \n",
      "immoralisteStats"
     ],
     "language": "python",
     "metadata": {},
     "outputs": [
      {
       "metadata": {},
       "output_type": "pyout",
       "prompt_number": 51,
       "text": [
        "{'count': 118, 'total': 37641}"
       ]
      }
     ],
     "prompt_number": 51
    },
    {
     "cell_type": "code",
     "collapsed": false,
     "input": [
      "import pandas as pd\n",
      "\n",
      "lexiquePredicted = (lexiqueStats[\"count\"]/lexiqueStats[\"total\"])*immoralisteStats[\"total\"]\n",
      "difference = ((immoralisteStats[\"count\"] - lexiquePredicted)  * 100) / immoralisteStats[\"count\"]\n",
      "pd.DataFrame([[immoralisteStats[\"count\"],lexiquePredicted,str(int(difference))+\"%\"]], columns=[\"Observed\",\"Lexique Predicted\",\"Difference\"], index=[\"Gide: Immoraliste\"])"
     ],
     "language": "python",
     "metadata": {},
     "outputs": [
      {
       "html": [
        "<div style=\"max-height:1000px;max-width:1500px;overflow:auto;\">\n",
        "<table border=\"1\" class=\"dataframe\">\n",
        "  <thead>\n",
        "    <tr style=\"text-align: right;\">\n",
        "      <th></th>\n",
        "      <th>Observed</th>\n",
        "      <th>Lexique Predicted</th>\n",
        "      <th>Difference</th>\n",
        "    </tr>\n",
        "  </thead>\n",
        "  <tbody>\n",
        "    <tr>\n",
        "      <th>Gide: Immoraliste</th>\n",
        "      <td> 118</td>\n",
        "      <td> 44.969326</td>\n",
        "      <td> 61%</td>\n",
        "    </tr>\n",
        "  </tbody>\n",
        "</table>\n",
        "</div>"
       ],
       "metadata": {},
       "output_type": "pyout",
       "prompt_number": 50,
       "text": [
        "                   Observed  Lexique Predicted Difference\n",
        "Gide: Immoraliste       118          44.969326        61%"
       ]
      }
     ],
     "prompt_number": 50
    }
   ],
   "metadata": {}
  }
 ]
}